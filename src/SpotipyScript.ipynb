{
 "cells": [
  {
   "cell_type": "code",
   "execution_count": 1,
   "metadata": {},
   "outputs": [],
   "source": [
    "import spotipy\n",
    "from spotipy.oauth2 import SpotifyClientCredentials\n",
    "from datetime import datetime\n",
    "import csv\n",
    "import pandas as pd\n",
    "import time\n"
   ]
  },
  {
   "cell_type": "code",
   "execution_count": 2,
   "metadata": {},
   "outputs": [],
   "source": [
    "# Spotify API credentials\n",
    "client_id = 'dfb4f42769e24d8a9870f81c6b660989'\n",
    "client_secret = 'd76afa6f5ab64a368e4dc4752084f11c'\n",
    "\n",
    "# Set up authentication using client credentials flow\n",
    "client_credentials_manager = SpotifyClientCredentials(client_id=client_id, client_secret=client_secret)\n",
    "sp = spotipy.Spotify(client_credentials_manager=client_credentials_manager)\n",
    "\n",
    "# Playlist ID - Top 50 Polska\n",
    "playlist_id = '37i9dQZEVXbN6itCcaL3Tt'\n",
    "# '37i9dQZF1DXcBWIGoYBM5M' - Top Global\n"
   ]
  },
  {
   "cell_type": "code",
   "execution_count": 3,
   "metadata": {},
   "outputs": [],
   "source": [
    "# Funkcja zapisująca informacje o utworach do pliku CSV\n",
    "def save_to_csv(track_info_list, csv_file):\n",
    "    fieldnames = ['rank', 'name', 'artist', 'date_added', 'popularity']\n",
    "\n",
    "    with open(csv_file, mode='a', newline='', encoding='utf-8') as file:\n",
    "        writer = csv.DictWriter(file, fieldnames=fieldnames, delimiter=';')\n",
    "\n",
    "        # Sprawdź, czy plik CSV jest pusty, a jeśli tak, napisz nagłówki\n",
    "        if file.tell() == 0:\n",
    "            writer.writeheader()\n",
    "\n",
    "        # Zapisz informacje o utworach do pliku CSV\n",
    "        writer.writerows(track_info_list)"
   ]
  },
  {
   "cell_type": "code",
   "execution_count": 4,
   "metadata": {},
   "outputs": [],
   "source": [
    "def load_existing_tracks(csv_file_path):\n",
    "    # Wczytaj istniejące informacje o utworach z pliku CSV\n",
    "    try:\n",
    "        existing_tracks = pd.read_csv(csv_file_path, parse_dates=['date_added'], sep=';')\n",
    "        return existing_tracks\n",
    "    except FileNotFoundError:\n",
    "        return None"
   ]
  },
  {
   "cell_type": "code",
   "execution_count": 5,
   "metadata": {},
   "outputs": [],
   "source": [
    "def retrive_track_info(playlist_id,frequency=None, csv_file_path='data/lololo_tracks.csv'): # USTAW NA TOP TRACKS\n",
    "\n",
    "    # Pętla, która uruchamia się co godzinę\n",
    "    # while True:\n",
    "    try:\n",
    "\n",
    "        # Pobierz top 50 utworów z playlisty\n",
    "        top_tracks = sp.playlist_tracks(playlist_id, limit=50)\n",
    "\n",
    "        # Sprawdź, czy plik CSV istnieje\n",
    "        existing_tracks = load_existing_tracks(csv_file_path)\n",
    "\n",
    "        # Przygotuj listę informacji o utworach do zapisu\n",
    "        track_info_list = []\n",
    "\n",
    "        # Sprawdź datę dodania pierwszego utworu z playlisty\n",
    "        first_track_date_added = None\n",
    "        if top_tracks['items']:\n",
    "            first_track_date_added = datetime.strptime(top_tracks['items'][0]['added_at'], '%Y-%m-%dT%H:%M:%SZ')\n",
    "\n",
    "        new_rank_exists = True\n",
    "\n",
    "        # Sprawdź, czy data dodania utworu istnieje w pliku CSV\n",
    "        if existing_tracks is not None and not existing_tracks.empty and 'date_added' in existing_tracks:\n",
    "            last_track_date_added = existing_tracks['date_added'].iloc[-1]\n",
    "            if first_track_date_added and first_track_date_added.date() == last_track_date_added.date():\n",
    "                print(\"Brak nowych utworów do dodania.\")\n",
    "                new_rank_exists = False \n",
    "                \n",
    "        if new_rank_exists:\n",
    "               \n",
    "            for idx, track in enumerate(top_tracks['items'], start=1):\n",
    "                track_info = {\n",
    "                    'rank': idx,\n",
    "                    'name': track['track']['name'],\n",
    "                    'artist': track['track']['artists'][0]['name'],\n",
    "                    'date_added': datetime.strptime(track['added_at'], '%Y-%m-%dT%H:%M:%SZ'),\n",
    "                    'popularity': track['track']['popularity']\n",
    "                }\n",
    "                track_info_list.append(track_info)\n",
    "            \n",
    "            # Zapisz informacje o utworach do pliku CSV\n",
    "            save_to_csv(track_info_list, csv_file_path)\n",
    "            \n",
    "            # Wyświetl informacje o utworach\n",
    "            for track_info in track_info_list:\n",
    "                print(f\"{track_info['rank']}. {track_info['name']} by {track_info['artist']} (Popularity: {track_info['popularity']})\")\n",
    "\n",
    "    except spotipy.SpotifyException as e:\n",
    "        print(f\"Spotify API error: {e}\")\n",
    "    except Exception as e:\n",
    "        print(f\"Error: {e}\")\n",
    "\n",
    "    # Częstotliwość wykonywania pętli w sekundach\n",
    "    # time.sleep(frequency)\n",
    "    return"
   ]
  },
  {
   "cell_type": "code",
   "execution_count": 6,
   "metadata": {},
   "outputs": [
    {
     "name": "stdout",
     "output_type": "stream",
     "text": [
      "Brak nowych utworów do dodania.\n"
     ]
    }
   ],
   "source": [
    "# Ręczne pobieranie utworów\n",
    "retrive_track_info(playlist_id,csv_file_path='data/top_tracks.csv')\n",
    "\n",
    "## Zautomatyzowane pobieranie utworów\n",
    "# retrive_track_info(playlist_id,86400,csv_file_path='data/top_tracks_automatic.csv')"
   ]
  }
 ],
 "metadata": {
  "kernelspec": {
   "display_name": "base",
   "language": "python",
   "name": "python3"
  },
  "language_info": {
   "codemirror_mode": {
    "name": "ipython",
    "version": 3
   },
   "file_extension": ".py",
   "mimetype": "text/x-python",
   "name": "python",
   "nbconvert_exporter": "python",
   "pygments_lexer": "ipython3",
   "version": "3.10.9"
  }
 },
 "nbformat": 4,
 "nbformat_minor": 2
}
