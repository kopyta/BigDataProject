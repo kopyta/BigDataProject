{
 "cells": [
  {
   "cell_type": "code",
   "execution_count": 1,
   "metadata": {},
   "outputs": [
    {
     "name": "stderr",
     "output_type": "stream",
     "text": [
      "C:\\Users\\agaal\\AppData\\Local\\Temp\\ipykernel_27248\\3105807315.py:11: DeprecationWarning: You're using 'as_dict = True'.get_access_token will return the token string directly in future versions. Please adjust your code accordingly, or use get_cached_token instead.\n",
      "  token_info = sp_oauth.get_access_token()\n"
     ]
    },
    {
     "name": "stdout",
     "output_type": "stream",
     "text": [
      "1: Snowman - Sia\n",
      "2: Astronomy - Conan Gray\n",
      "3: lowkey - NIKI\n",
      "4: Cupid - FIFTY FIFTY\n",
      "5: The Painted On The Moonlight - MIYEON\n",
      "6: snowfall - Øneheart\n",
      "7: Perfect Night - LE SSERAFIM\n",
      "8: En dag när du blir stor - Benjamin Ingrosso\n",
      "9: Zu dir - LEA\n",
      "10: Letters - Maximillian\n",
      "11: Rétine - Amir\n",
      "12: Prada - cassö\n",
      "13: Jesień – Tańcuj - L.U.C.\n",
      "14: Bom Bom Bom - Roy Kim\n",
      "15: Caramelldansen - Caramella Girls\n",
      "16: Baddie - IVE\n",
      "17: 행복 (MIC SWG LIVE VER) - OVAN\n",
      "18: Blank Space (Taylor's Version) - Taylor Swift\n",
      "19: Style (Taylor's Version) - Taylor Swift\n",
      "20: Things We Took For Granted - Lee Juck\n"
     ]
    }
   ],
   "source": [
    "import spotipy\n",
    "from spotipy.oauth2 import SpotifyClientCredentials, SpotifyOAuth\n",
    "\n",
    "# Ustawienia\n",
    "client_id = 'dfb4f42769e24d8a9870f81c6b660989'\n",
    "client_secret = '1b41ba7464f74aee88f77303221fb4b7'\n",
    "redirect_uri = 'http://localhost:8888/callback/'  # Zdefiniuj w ustawieniach aplikacji Spotify\n",
    "\n",
    "# Uzyskaj token dostępu\n",
    "sp_oauth = SpotifyOAuth(client_id, client_secret, redirect_uri, scope='user-library-read')\n",
    "token_info = sp_oauth.get_access_token()\n",
    "token = token_info['access_token']\n",
    "\n",
    "# Utwórz obiekt Spotify\n",
    "sp = spotipy.Spotify(auth=token)\n",
    "\n",
    "# Pobierz dane z API Spotify\n",
    "results = sp.current_user_saved_tracks()\n",
    "for idx, item in enumerate(results['items']):\n",
    "    track = item['track']\n",
    "    print(f\"{idx + 1}: {track['name']} - {track['artists'][0]['name']}\")\n"
   ]
  }
 ],
 "metadata": {
  "kernelspec": {
   "display_name": "base",
   "language": "python",
   "name": "python3"
  },
  "language_info": {
   "codemirror_mode": {
    "name": "ipython",
    "version": 3
   },
   "file_extension": ".py",
   "mimetype": "text/x-python",
   "name": "python",
   "nbconvert_exporter": "python",
   "pygments_lexer": "ipython3",
   "version": "3.10.9"
  }
 },
 "nbformat": 4,
 "nbformat_minor": 2
}
