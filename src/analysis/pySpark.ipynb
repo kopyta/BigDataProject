{
 "cells": [
  {
   "cell_type": "code",
   "execution_count": 1,
   "id": "ebc83547",
   "metadata": {},
   "outputs": [],
   "source": [
    "import findspark\n",
    "findspark.init()"
   ]
  },
  {
   "cell_type": "code",
   "execution_count": 2,
   "id": "d3ca9464",
   "metadata": {},
   "outputs": [],
   "source": [
    "# from pyspark import SparkContext, SQLContext\n",
    "\n",
    "# sc = SparkContext()\n",
    "# sqlContext = SQLContext(sc)\n",
    "# df = sqlContext.read.format('csv').options(header='true', inferschema='true',sep=\";\").load('data/2023-12-16.csv')\n",
    "# df.show()"
   ]
  },
  {
   "cell_type": "code",
   "execution_count": 3,
   "id": "8daaa6f7",
   "metadata": {},
   "outputs": [],
   "source": [
    "from pyspark.sql import SparkSession\n",
    "from pyspark.sql.functions import col, lit\n",
    "from pyspark.sql.window import Window\n",
    "from pyspark.sql.types import IntegerType\n",
    "from pyspark.sql.functions import col, from_unixtime"
   ]
  },
  {
   "cell_type": "code",
   "execution_count": 4,
   "id": "248c5b5e",
   "metadata": {},
   "outputs": [],
   "source": [
    "def load_parquet_files(spark, input_path):\n",
    "    # Wczytaj dane z plików Parquet\n",
    "    df = spark.read.parquet(input_path)\n",
    "    return df"
   ]
  },
  {
   "cell_type": "code",
   "execution_count": 5,
   "id": "748dd440",
   "metadata": {},
   "outputs": [],
   "source": [
    "# Ścieżki do danych w HDFS\n",
    "top_tracks_base_path = \"data/parquet/\"\n",
    "spotify_songs_path = \"data/spotify_songs.parquet\""
   ]
  },
  {
   "cell_type": "code",
   "execution_count": 6,
   "id": "724e62b3",
   "metadata": {},
   "outputs": [
    {
     "name": "stderr",
     "output_type": "stream",
     "text": [
      "23/12/29 16:01:17 WARN util.Utils: Your hostname, node1 resolves to a loopback address: 127.0.0.1; using 10.0.2.15 instead (on interface enp0s3)\n",
      "23/12/29 16:01:17 WARN util.Utils: Set SPARK_LOCAL_IP if you need to bind to another address\n",
      "23/12/29 16:01:18 WARN util.NativeCodeLoader: Unable to load native-hadoop library for your platform... using builtin-java classes where applicable\n",
      "Setting default log level to \"WARN\".\n",
      "To adjust logging level use sc.setLogLevel(newLevel). For SparkR, use setLogLevel(newLevel).\n"
     ]
    }
   ],
   "source": [
    "# Inicjalizacja sesji Spark\n",
    "spark = SparkSession.builder.appName(\"SpotifyAnalysis\").getOrCreate()"
   ]
  },
  {
   "cell_type": "code",
   "execution_count": 7,
   "id": "b0735665",
   "metadata": {},
   "outputs": [],
   "source": [
    "# Wczytaj dane z plików Parquet\n",
    "top_tracks_df = load_parquet_files(spark, top_tracks_base_path)\n",
    "\n",
    "spotify_songs_df = spark.read.parquet(spotify_songs_path)"
   ]
  },
  {
   "cell_type": "code",
   "execution_count": 8,
   "id": "af23b19a",
   "metadata": {},
   "outputs": [
    {
     "name": "stdout",
     "output_type": "stream",
     "text": [
      "+----------------------+----+-------------------------------------------+---------------+-------------------+----------+\n",
      "|track_id              |rank|track_name                                 |artist         |date_added         |popularity|\n",
      "+----------------------+----+-------------------------------------------+---------------+-------------------+----------+\n",
      "|06qMRF18gwbOYYbnP2du6i|1   |Last Christmas - Single Version            |Wham!          |2023-12-25 08:54:00|89        |\n",
      "|0bYg9bo50gSsH3LtXe2SQn|2   |All I Want for Christmas Is You            |Mariah Carey   |2023-12-25 08:54:00|100       |\n",
      "|2EjXfH91m7f8HiJN1yQg97|3   |Rockin' Around The Christmas Tree          |Brenda Lee     |2023-12-25 08:54:00|98        |\n",
      "|2TE4xW3ImvpltVU0cPcKUn|4   |Merry Christmas Everyone                   |Shakin' Stevens|2023-12-25 08:54:00|91        |\n",
      "|7vQbuQcyTflfCIOu3Uzzya|5   |Jingle Bell Rock                           |Bobby Helms    |2023-12-25 08:54:00|94        |\n",
      "|7uoFMmxln0GPXQ0AcCBXRq|6   |Snowman                                    |Sia            |2023-12-25 08:54:00|94        |\n",
      "|0lizgQ7Qw35od7CYaoMBZb|7   |Santa Tell Me                              |Ariana Grande  |2023-12-25 08:54:00|96        |\n",
      "|2uFaJJtFpPDc5Pa95XzTvg|8   |Let It Snow! Let It Snow! Let It Snow!     |Dean Martin    |2023-12-25 08:54:00|95        |\n",
      "|5YeWMDlueFQ2727lVfGaIg|9   |Dzień jeden w roku                         |Czerwone Gitary|2023-12-25 08:54:00|68        |\n",
      "|3Z3QhZAZpqwZa1phsbQ3JZ|10  |Driving Home for Christmas                 |Chris Rea      |2023-12-25 08:54:00|75        |\n",
      "|4z77VPWmxxMosO4o2jD8uT|11  |Kto Wie?                                   |De Su          |2023-12-25 08:54:00|69        |\n",
      "|5ASM6Qjiav2xPe7gRkQMsQ|12  |Sleigh Ride                                |The Ronettes   |2023-12-25 08:54:00|84        |\n",
      "|3ZfRpDV74gUbBCmW8yb6ml|13  |It's Beginning to Look a Lot like Christmas|Michael Bublé  |2023-12-25 08:54:00|87        |\n",
      "|3gBhiIj76UJQ7jlrUR4qjc|14  |It's the Most Wonderful Time of the Year   |Andy Williams  |2023-12-25 08:54:00|79        |\n",
      "|6tjituizSxwSmBB5vtgHZE|15  |Holly Jolly Christmas                      |Michael Bublé  |2023-12-25 08:54:00|83        |\n",
      "|2g59LWL5y0BuPsyJZQTubb|16  |Z kopyta kulig rwie                        |Skaldowie      |2023-12-25 08:54:00|67        |\n",
      "|6IyM1d0DOlb8S3tUGi7wPB|17  |Coraz Bliżej Święta                        |Margaret       |2023-12-25 08:54:00|68        |\n",
      "|0oPdaY4dXtc3ZsaG17V972|18  |Feliz Navidad                              |José Feliciano |2023-12-25 08:54:00|88        |\n",
      "|1SmlDkUf67T8x2DiWyyfy4|19  |Ding dong                                  |Kayah          |2023-12-25 08:54:00|67        |\n",
      "|3YZE5qDV7u1ZD1gZc47ZeR|20  |Underneath the Tree                        |Kelly Clarkson |2023-12-25 08:54:00|86        |\n",
      "+----------------------+----+-------------------------------------------+---------------+-------------------+----------+\n",
      "only showing top 20 rows\n",
      "\n",
      "+----------------+--------+-------+-------+-----------+\n",
      "|instrumentalness|liveness|valence|  tempo|duration_ms|\n",
      "+----------------+--------+-------+-------+-----------+\n",
      "|             0.0|  0.0653|  0.518|122.036|     194754|\n",
      "|         0.00421|   0.357|  0.693| 99.972|     162600|\n",
      "|         2.33E-5|    0.11|  0.613|124.008|     176616|\n",
      "|         9.43E-6|   0.204|  0.277|121.956|     169093|\n",
      "|             0.0|  0.0833|  0.725|123.976|     189052|\n",
      "|             0.0|   0.143|  0.585|124.982|     163049|\n",
      "|             0.0|   0.176|  0.152|112.648|     187675|\n",
      "|         4.83E-6|   0.111|  0.367|127.936|     207619|\n",
      "|         3.97E-6|   0.637|  0.366|127.015|     193187|\n",
      "|             0.0|  0.0919|   0.59|124.957|     253040|\n",
      "|         4.92E-6|   0.124|  0.752|121.984|     207894|\n",
      "|             0.0|   0.133|  0.329|123.125|     203733|\n",
      "|             0.0|   0.374|  0.687|121.985|     192507|\n",
      "|             0.0|   0.339|  0.678|123.919|     164516|\n",
      "|         0.00183|  0.0729|  0.238| 126.07|     255238|\n",
      "|         5.03E-6|   0.365|  0.722|125.028|     188230|\n",
      "|             0.0|   0.427|  0.368|118.051|     173548|\n",
      "|             0.0|   0.174|  0.516|120.002|     189375|\n",
      "|          0.0036|   0.138|  0.324|111.961|     159404|\n",
      "|         4.41E-4|   0.131|  0.232|122.676|     185366|\n",
      "+----------------+--------+-------+-------+-----------+\n",
      "only showing top 20 rows\n",
      "\n"
     ]
    }
   ],
   "source": [
    "# Analiza top 50 utworów\n",
    "top_tracks_df.show(truncate=False)\n",
    "# Wybierz ostatnie 5 kolumny i wyświetl\n",
    "spotify_songs_df.select(spotify_songs_df.columns[-5:]).show()\n",
    "\n",
    "# # Analiza najpopularniejszych wykonawców\n",
    "# top_artists_df = top_tracks_df.groupBy(\"artist\").count().orderBy(col(\"count\").desc())\n",
    "# top_artists_df.show()\n",
    "\n",
    "# # Analiza cech utworów\n",
    "# features_df = spotify_songs_df.select(\n",
    "#     \"danceability\", \"energy\", \"loudness\", \"speechiness\", \"acousticness\",\n",
    "#     \"instrumentalness\", \"liveness\", \"valence\", \"duration_ms\"\n",
    "# )\n",
    "# features_summary = features_df.summary()\n",
    "# features_summary.show()\n",
    "\n",
    "# # Wizualizacja cech utworów (przykład dla danceability)\n",
    "# import matplotlib.pyplot as plt\n",
    "# import pandas as pd\n",
    "\n",
    "# danceability_data = features_df.select(\"danceability\").toPandas()\n",
    "# danceability_data.plot(kind=\"hist\", bins=20, title=\"Distribution of Danceability\")\n",
    "# plt.show()\n",
    "\n",
    "# Zamknięcie sesji Spark"
   ]
  },
  {
   "cell_type": "code",
   "execution_count": 9,
   "id": "57e35830",
   "metadata": {},
   "outputs": [
    {
     "name": "stderr",
     "output_type": "stream",
     "text": [
      "                                                                                \r"
     ]
    }
   ],
   "source": [
    "# Wybierz tylko kolumnę 'track_id' z obu ramek danych\n",
    "top_tracks_ids = top_tracks_df.select(\"track_id\")\n",
    "spotify_songs_ids = spotify_songs_df.select(\"track_id\")\n",
    "\n",
    "# Użyj metody subtract, aby znaleźć różnicę między dwoma ramkami\n",
    "missing_tracks = top_tracks_ids.subtract(spotify_songs_ids)\n",
    "\n",
    "# Oznacz w top_tracks rekordy, których brakuje w spotify_songs\n",
    "missing_tracks_list = missing_tracks.rdd.map(lambda x: x[0]).collect()\n",
    "top_tracks_df = top_tracks_df.withColumn(\"missing\", col(\"track_id\").isin(missing_tracks_list))"
   ]
  },
  {
   "cell_type": "code",
   "execution_count": 10,
   "id": "58d79ee4",
   "metadata": {},
   "outputs": [
    {
     "name": "stdout",
     "output_type": "stream",
     "text": [
      "+----------------------+----+----------------+--------------+-------------------+----------+-------+\n",
      "|track_id              |rank|track_name      |artist        |date_added         |popularity|missing|\n",
      "+----------------------+----+----------------+--------------+-------------------+----------+-------+\n",
      "|4NGn7ZjI1Ex9ZjcbOa6KNt|25  |Rolly           |ReTo          |2023-12-29 09:09:03|28        |true   |\n",
      "|61rJpXPZ4wkqmdsLYJu6LK|48  |Z Tobą na chacie|Daria Zawiałow|2023-12-29 09:09:03|63        |true   |\n",
      "|4uayCD0blZhblTiQqKLYiC|49  |Skippers        |Young Leosia  |2023-12-29 09:09:03|55        |true   |\n",
      "+----------------------+----+----------------+--------------+-------------------+----------+-------+\n",
      "\n"
     ]
    }
   ],
   "source": [
    "# Pokaż rekordy z top tracks, których brakuje\n",
    "top_tracks_df[top_tracks_df['missing']==True].show(truncate=False)"
   ]
  },
  {
   "cell_type": "code",
   "execution_count": 12,
   "id": "720d0096",
   "metadata": {},
   "outputs": [],
   "source": [
    "spark.stop()"
   ]
  }
 ],
 "metadata": {
  "kernelspec": {
   "display_name": "Python 3 (ipykernel)",
   "language": "python",
   "name": "python3"
  },
  "language_info": {
   "codemirror_mode": {
    "name": "ipython",
    "version": 3
   },
   "file_extension": ".py",
   "mimetype": "text/x-python",
   "name": "python",
   "nbconvert_exporter": "python",
   "pygments_lexer": "ipython3",
   "version": "3.7.10"
  }
 },
 "nbformat": 4,
 "nbformat_minor": 5
}
